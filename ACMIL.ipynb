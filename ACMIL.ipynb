{
 "cells": [
  {
   "cell_type": "code",
   "execution_count": 2,
   "id": "2b024a37-5301-491d-8e1a-0b0b1d74411b",
   "metadata": {
    "execution": {
     "iopub.execute_input": "2024-12-03T15:05:22.561031Z",
     "iopub.status.busy": "2024-12-03T15:05:22.557395Z",
     "iopub.status.idle": "2024-12-03T15:05:22.577219Z",
     "shell.execute_reply": "2024-12-03T15:05:22.574777Z",
     "shell.execute_reply.started": "2024-12-03T15:05:22.560920Z"
    }
   },
   "outputs": [
    {
     "name": "stdout",
     "output_type": "stream",
     "text": [
      "PyTorch version: 2.3.1+cu121\n",
      "Is CUDA available: False\n"
     ]
    }
   ],
   "source": [
    "import torch\n",
    "print(f\"PyTorch version: {torch.__version__}\")\n",
    "print(f\"Is CUDA available: {torch.cuda.is_available()}\")\n",
    "\n",
    "import torch.nn as nn\n",
    "import torch.nn.functional as F\n",
    "import numpy as np\n",
    "\n"
   ]
  },
  {
   "cell_type": "code",
   "execution_count": 3,
   "id": "403920f5-dfb6-46e0-8a9b-cedcaac8cb80",
   "metadata": {
    "execution": {
     "iopub.execute_input": "2024-12-03T15:48:35.913655Z",
     "iopub.status.busy": "2024-12-03T15:48:35.911797Z",
     "iopub.status.idle": "2024-12-03T15:48:36.060063Z",
     "shell.execute_reply": "2024-12-03T15:48:36.057537Z",
     "shell.execute_reply.started": "2024-12-03T15:48:35.913561Z"
    }
   },
   "outputs": [],
   "source": [
    "class ACMILAttention(nn.Module):\n",
    "    def __init__(self, input_dim, latent_dim):\n",
    "        \"\"\"\n",
    "        ACMIL Attention Layer: Computes attention scores for instances.\n",
    "        Args:\n",
    "            input_dim (int): Dimension of input features.\n",
    "            latent_dim (int): Dimension of the latent space for attention.\n",
    "        \"\"\"\n",
    "        super(ACMILAttention, self).__init__()\n",
    "        self.fc1 = nn.Linear(input_dim, latent_dim)  # Project to latent space\n",
    "        self.tanh = nn.Tanh()\n",
    "        self.fc2 = nn.Linear(latent_dim, 1)  # Compute attention score\n",
    "\n",
    "    def forward(self, x):\n",
    "        \"\"\"\n",
    "        Forward pass of attention.\n",
    "        Args:\n",
    "            x (Tensor): Instance features of shape (N, D), where\n",
    "                        N = number of instances in the bag\n",
    "                        D = feature dimension.\n",
    "        Returns:\n",
    "            attention_scores (Tensor): Attention scores of shape (N, 1).\n",
    "        \"\"\"\n",
    "        x = self.fc1(x)  # Project to latent space\n",
    "        x = self.tanh(x)\n",
    "        attention_scores = self.fc2(x)  # Compute scores\n",
    "        return F.softmax(attention_scores, dim=0)  # Normalize scores\n"
   ]
  },
  {
   "cell_type": "code",
   "execution_count": 4,
   "id": "6fbaff9b-45d0-4a2b-a15e-0d06c0edfba1",
   "metadata": {
    "execution": {
     "iopub.execute_input": "2024-12-03T15:49:04.201030Z",
     "iopub.status.busy": "2024-12-03T15:49:04.200271Z",
     "iopub.status.idle": "2024-12-03T15:49:04.216908Z",
     "shell.execute_reply": "2024-12-03T15:49:04.214086Z",
     "shell.execute_reply.started": "2024-12-03T15:49:04.200966Z"
    }
   },
   "outputs": [],
   "source": [
    "class ACMIL(nn.Module):\n",
    "    def __init__(self, input_dim, latent_dim, num_classes=2):\n",
    "        \"\"\"\n",
    "        ACMIL Model: Uses attribute-guided attention for bag-level prediction.\n",
    "        Args:\n",
    "            input_dim (int): Dimension of instance-level input features.\n",
    "            latent_dim (int): Dimension of latent space for attention.\n",
    "            num_classes (int): Number of output classes (default=2).\n",
    "        \"\"\"\n",
    "        super(ACMIL, self).__init__()\n",
    "        self.attention = ACMILAttention(input_dim, latent_dim)  # Attention layer\n",
    "        self.classifier = nn.Linear(input_dim, num_classes)  # Classifier layer\n",
    "\n",
    "    def forward(self, x):\n",
    "        \"\"\"\n",
    "        Forward pass of the ACMIL model.\n",
    "        Args:\n",
    "            x (Tensor): Input bag features of shape (N, D), where\n",
    "                        N = number of instances in the bag\n",
    "                        D = feature dimension.\n",
    "        Returns:\n",
    "            bag_logits (Tensor): Predicted logits for the bag.\n",
    "            attention_weights (Tensor): Attention weights for each instance.\n",
    "        \"\"\"\n",
    "        attention_weights = self.attention(x)  # Compute attention weights\n",
    "        bag_representation = torch.sum(attention_weights * x, dim=0)  # Weighted sum\n",
    "        bag_logits = self.classifier(bag_representation)  # Classify bag\n",
    "        return bag_logits, attention_weights\n"
   ]
  },
  {
   "cell_type": "code",
   "execution_count": 5,
   "id": "1d56b01f-56de-48c9-a418-ade88e664294",
   "metadata": {
    "execution": {
     "iopub.execute_input": "2024-12-03T15:49:16.137049Z",
     "iopub.status.busy": "2024-12-03T15:49:16.136127Z",
     "iopub.status.idle": "2024-12-03T15:49:16.242143Z",
     "shell.execute_reply": "2024-12-03T15:49:16.238118Z",
     "shell.execute_reply.started": "2024-12-03T15:49:16.137008Z"
    }
   },
   "outputs": [
    {
     "name": "stdout",
     "output_type": "stream",
     "text": [
      "Bag logits: tensor([-0.2565, -0.6902], grad_fn=<ViewBackward0>)\n",
      "Attention weights: tensor([[0.1055],\n",
      "        [0.0852],\n",
      "        [0.1133],\n",
      "        [0.1001],\n",
      "        [0.0878],\n",
      "        [0.1121],\n",
      "        [0.1016],\n",
      "        [0.0917],\n",
      "        [0.0956],\n",
      "        [0.1071]], grad_fn=<SoftmaxBackward0>)\n"
     ]
    }
   ],
   "source": [
    "# Parameters\n",
    "input_dim = 128  # Example input feature dimension\n",
    "latent_dim = 64  # Latent space for attention\n",
    "num_classes = 2  # Binary classification\n",
    "\n",
    "# Create model\n",
    "model = ACMIL(input_dim, latent_dim, num_classes)\n",
    "\n",
    "# Simulate a bag with 10 instances, each of dimension `input_dim`\n",
    "bag = torch.rand(10, input_dim)  # 10 instances with 128 features each\n",
    "\n",
    "# Forward pass\n",
    "bag_logits, attention_weights = model(bag)\n",
    "\n",
    "# Print results\n",
    "print(\"Bag logits:\", bag_logits)\n",
    "print(\"Attention weights:\", attention_weights)\n"
   ]
  },
  {
   "cell_type": "code",
   "execution_count": null,
   "id": "0fdd85f0-10a5-4824-bb87-48ca23114c71",
   "metadata": {},
   "outputs": [],
   "source": []
  }
 ],
 "metadata": {
  "kernelspec": {
   "display_name": "Python3",
   "language": "python",
   "name": "python3"
  },
  "language_info": {
   "codemirror_mode": {
    "name": "ipython",
    "version": 3
   },
   "file_extension": ".py",
   "mimetype": "text/x-python",
   "name": "python",
   "nbconvert_exporter": "python",
   "pygments_lexer": "ipython3",
   "version": "3.12.5"
  }
 },
 "nbformat": 4,
 "nbformat_minor": 5
}
